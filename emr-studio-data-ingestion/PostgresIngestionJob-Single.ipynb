{
 "cells": [
  {
   "cell_type": "markdown",
   "id": "138da90d-31a4-46f6-b85d-f7ccb5d2a436",
   "metadata": {},
   "source": [
    "# ETL Ingestion"
   ]
  },
  {
   "cell_type": "markdown",
   "id": "ac2f635e-a56c-4fc5-9fef-d835780c90a6",
   "metadata": {
    "tags": []
   },
   "source": [
    "## Setup environment and import libraries"
   ]
  },
  {
   "cell_type": "markdown",
   "id": "4ba0ea2f-2dcd-40a6-8870-e027065d97a8",
   "metadata": {
    "tags": []
   },
   "source": [
    "### Upload the jdbc driver in S3 and declare the path"
   ]
  },
  {
   "cell_type": "code",
   "execution_count": 1,
   "id": "25092271-bd49-441b-85e9-b3e02f887327",
   "metadata": {
    "execution": {
     "iopub.execute_input": "2022-11-04T05:47:48.066211Z",
     "iopub.status.busy": "2022-11-04T05:47:48.065912Z",
     "iopub.status.idle": "2022-11-04T05:47:48.082835Z",
     "shell.execute_reply": "2022-11-04T05:47:48.082305Z",
     "shell.execute_reply.started": "2022-11-04T05:47:48.066182Z"
    },
    "tags": []
   },
   "outputs": [
    {
     "data": {
      "text/html": [
       "Current session configs: <tt>{'conf': {'spark.jars': 's3://aws-glue-assets-130835040051-ap-southeast-1/jars/postgresql-42.3.3.jar,s3://aws-glue-assets-130835040051-ap-southeast-1/jars/emr_redshift_spark/minimal-json.jar,s3://aws-glue-assets-130835040051-ap-southeast-1/jars/emr_redshift_spark/RedshiftJDBC.jar,s3://aws-glue-assets-130835040051-ap-southeast-1/jars/emr_redshift_spark/spark-avro.jar,s3://aws-glue-assets-130835040051-ap-southeast-1/jars/emr_redshift_spark/spark-redshift.jar', 'spark.sql.session.timeZone': 'Asia/Jakarta'}, 'proxyUser': 'assumed-role_EMRDevExp-StudioUserRole_emr-engineer', 'kind': 'pyspark'}</tt><br>"
      ],
      "text/plain": [
       "<IPython.core.display.HTML object>"
      ]
     },
     "metadata": {},
     "output_type": "display_data"
    },
    {
     "data": {
      "text/html": [
       "No active sessions."
      ],
      "text/plain": [
       "<IPython.core.display.HTML object>"
      ]
     },
     "metadata": {},
     "output_type": "display_data"
    }
   ],
   "source": [
    "%%configure -f\n",
    "\n",
    "{\n",
    "    \"conf\": {\n",
    "        \"spark.jars\": \"s3://aws-glue-assets-130835040051-ap-southeast-1/jars/postgresql-42.3.3.jar,s3://aws-glue-assets-130835040051-ap-southeast-1/jars/emr_redshift_spark/minimal-json.jar,s3://aws-glue-assets-130835040051-ap-southeast-1/jars/emr_redshift_spark/RedshiftJDBC.jar,s3://aws-glue-assets-130835040051-ap-southeast-1/jars/emr_redshift_spark/spark-avro.jar,s3://aws-glue-assets-130835040051-ap-southeast-1/jars/emr_redshift_spark/spark-redshift.jar\"\n",
    "    }\n",
    "}\n",
    "\n"
   ]
  },
  {
   "cell_type": "code",
   "execution_count": 2,
   "id": "b34e832a-88f5-49cf-90aa-d20cc8a1b4db",
   "metadata": {
    "execution": {
     "iopub.execute_input": "2022-11-04T05:47:49.654319Z",
     "iopub.status.busy": "2022-11-04T05:47:49.654057Z",
     "iopub.status.idle": "2022-11-04T05:48:19.978404Z",
     "shell.execute_reply": "2022-11-04T05:48:19.977816Z",
     "shell.execute_reply.started": "2022-11-04T05:47:49.654284Z"
    },
    "tags": []
   },
   "outputs": [
    {
     "data": {
      "application/vnd.jupyter.widget-view+json": {
       "model_id": "a3ae05b7196b41aea3f786bf873e71fe",
       "version_major": 2,
       "version_minor": 0
      },
      "text/plain": [
       "VBox()"
      ]
     },
     "metadata": {},
     "output_type": "display_data"
    },
    {
     "name": "stdout",
     "output_type": "stream",
     "text": [
      "Starting Spark application\n"
     ]
    },
    {
     "data": {
      "text/html": [
       "<table>\n",
       "<tr><th>ID</th><th>YARN Application ID</th><th>Kind</th><th>State</th><th>Spark UI</th><th>Driver log</th><th>User</th><th>Current session?</th></tr><tr><td>88</td><td>application_1667433809375_0087</td><td>pyspark</td><td>idle</td><td><a target=\"_blank\" href=\"http://ip-10-0-10-77.ap-southeast-1.compute.internal:20888/proxy/application_1667433809375_0087/\" class=\"emr-proxy-link\" emr-resource=\"j-K408OJH25N2L\n",
       "\" application-id=\"application_1667433809375_0087\">Link</a></td><td><a target=\"_blank\" href=\"http://ip-10-0-10-77.ap-southeast-1.compute.internal:8042/node/containerlogs/container_1667433809375_0087_01_000001/livy\" >Link</a></td><td>None</td><td>✔</td></tr></table>"
      ],
      "text/plain": [
       "<IPython.core.display.HTML object>"
      ]
     },
     "metadata": {},
     "output_type": "display_data"
    },
    {
     "data": {
      "application/vnd.jupyter.widget-view+json": {
       "model_id": "",
       "version_major": 2,
       "version_minor": 0
      },
      "text/plain": [
       "FloatProgress(value=0.0, bar_style='info', description='Progress:', layout=Layout(height='25px', width='50%'),…"
      ]
     },
     "metadata": {},
     "output_type": "display_data"
    },
    {
     "name": "stdout",
     "output_type": "stream",
     "text": [
      "SparkSession available as 'spark'.\n"
     ]
    },
    {
     "data": {
      "application/vnd.jupyter.widget-view+json": {
       "model_id": "",
       "version_major": 2,
       "version_minor": 0
      },
      "text/plain": [
       "FloatProgress(value=0.0, bar_style='info', description='Progress:', layout=Layout(height='25px', width='50%'),…"
      ]
     },
     "metadata": {},
     "output_type": "display_data"
    }
   ],
   "source": [
    "\n",
    "import os\n",
    "import sys\n",
    "from datetime import datetime\n",
    "from pyspark.sql import SparkSession\n",
    "from pyspark.sql.functions import *\n",
    "from pyspark.sql.functions import to_date, col, udf\n",
    "\n",
    "os.environ['PYSPARK_SUBMIT_ARGS'] = '--packages org.apache.spark:spark-avro_2.11:2.4.2,io.github.spark-redshift-community:spark-redshift_2.11:4.0.1 pyspark-shell'\n"
   ]
  },
  {
   "cell_type": "markdown",
   "id": "466363ba-b770-4c3d-ade0-6070929c3255",
   "metadata": {},
   "source": [
    "Install boto3 in cluster first\n",
    "`sudo pip3 install -U boto3`"
   ]
  },
  {
   "cell_type": "code",
   "execution_count": 3,
   "id": "d03816a2-4e46-4689-8e90-042f9f992638",
   "metadata": {
    "execution": {
     "iopub.execute_input": "2022-11-04T05:48:19.979518Z",
     "iopub.status.busy": "2022-11-04T05:48:19.979353Z",
     "iopub.status.idle": "2022-11-04T05:48:20.246581Z",
     "shell.execute_reply": "2022-11-04T05:48:20.245972Z",
     "shell.execute_reply.started": "2022-11-04T05:48:19.979497Z"
    },
    "tags": []
   },
   "outputs": [
    {
     "data": {
      "application/vnd.jupyter.widget-view+json": {
       "model_id": "4f359b79a9ec449aa5d0b521a15ef6d8",
       "version_major": 2,
       "version_minor": 0
      },
      "text/plain": [
       "VBox()"
      ]
     },
     "metadata": {},
     "output_type": "display_data"
    },
    {
     "data": {
      "application/vnd.jupyter.widget-view+json": {
       "model_id": "",
       "version_major": 2,
       "version_minor": 0
      },
      "text/plain": [
       "FloatProgress(value=0.0, bar_style='info', description='Progress:', layout=Layout(height='25px', width='50%'),…"
      ]
     },
     "metadata": {},
     "output_type": "display_data"
    }
   ],
   "source": [
    "\n",
    "#sc.install_pypi_package(\"boto3\")\n",
    "import boto3\n",
    "import botocore"
   ]
  },
  {
   "cell_type": "markdown",
   "id": "17a8e121-f0cb-4ac6-b4e2-e37512c8c3cd",
   "metadata": {},
   "source": [
    "## Find latest event time from a dataframe"
   ]
  },
  {
   "cell_type": "code",
   "execution_count": 4,
   "id": "24f2cbe4-62cb-4f84-822e-6ef59ca2b93e",
   "metadata": {
    "execution": {
     "iopub.execute_input": "2022-11-04T05:48:20.248310Z",
     "iopub.status.busy": "2022-11-04T05:48:20.248059Z",
     "iopub.status.idle": "2022-11-04T05:48:20.315383Z",
     "shell.execute_reply": "2022-11-04T05:48:20.314796Z",
     "shell.execute_reply.started": "2022-11-04T05:48:20.248276Z"
    },
    "tags": []
   },
   "outputs": [
    {
     "data": {
      "application/vnd.jupyter.widget-view+json": {
       "model_id": "027267810fde4a718106fe51c7564b30",
       "version_major": 2,
       "version_minor": 0
      },
      "text/plain": [
       "VBox()"
      ]
     },
     "metadata": {},
     "output_type": "display_data"
    },
    {
     "data": {
      "application/vnd.jupyter.widget-view+json": {
       "model_id": "",
       "version_major": 2,
       "version_minor": 0
      },
      "text/plain": [
       "FloatProgress(value=0.0, bar_style='info', description='Progress:', layout=Layout(height='25px', width='50%'),…"
      ]
     },
     "metadata": {},
     "output_type": "display_data"
    }
   ],
   "source": [
    "def find_latest_event_time (inputDF, column_name,spark):\n",
    "    inputDF.createOrReplaceTempView(\"df_table\")\n",
    "    sql_string = \"SELECT MAX(\" + column_name + \") as maxval FROM df_table\"\n",
    "    return spark.sql(sql_string).collect()[0].asDict()['maxval']"
   ]
  },
  {
   "cell_type": "markdown",
   "id": "c1a4203b-2ce6-4bc3-a203-3ee3b8df4f36",
   "metadata": {},
   "source": [
    "## Uppercase functions as UDF"
   ]
  },
  {
   "cell_type": "code",
   "execution_count": 5,
   "id": "09cb269d-4e4f-4cd5-baf1-04534b80b707",
   "metadata": {
    "execution": {
     "iopub.execute_input": "2022-11-04T05:48:20.317037Z",
     "iopub.status.busy": "2022-11-04T05:48:20.316638Z",
     "iopub.status.idle": "2022-11-04T05:48:20.383999Z",
     "shell.execute_reply": "2022-11-04T05:48:20.383462Z",
     "shell.execute_reply.started": "2022-11-04T05:48:20.317001Z"
    },
    "tags": []
   },
   "outputs": [
    {
     "data": {
      "application/vnd.jupyter.widget-view+json": {
       "model_id": "16cf163f0eea4e40b43bf81dc8b69865",
       "version_major": 2,
       "version_minor": 0
      },
      "text/plain": [
       "VBox()"
      ]
     },
     "metadata": {},
     "output_type": "display_data"
    },
    {
     "data": {
      "application/vnd.jupyter.widget-view+json": {
       "model_id": "",
       "version_major": 2,
       "version_minor": 0
      },
      "text/plain": [
       "FloatProgress(value=0.0, bar_style='info', description='Progress:', layout=Layout(height='25px', width='50%'),…"
      ]
     },
     "metadata": {},
     "output_type": "display_data"
    }
   ],
   "source": [
    "\n",
    "from pyspark.sql.functions import udf\n",
    "@udf\n",
    "def my_uppercase(my_string):\n",
    "    return my_string.upper()"
   ]
  },
  {
   "cell_type": "markdown",
   "id": "9a396dcb-339d-4ebf-8356-69f2f327ee5f",
   "metadata": {},
   "source": [
    "## Get bookmark value from Redshift Bookmark table"
   ]
  },
  {
   "cell_type": "code",
   "execution_count": 6,
   "id": "7189fa8e-5d33-43c1-93ca-4ee1a8ed7141",
   "metadata": {
    "execution": {
     "iopub.execute_input": "2022-11-04T05:48:20.385597Z",
     "iopub.status.busy": "2022-11-04T05:48:20.385159Z",
     "iopub.status.idle": "2022-11-04T05:48:20.444324Z",
     "shell.execute_reply": "2022-11-04T05:48:20.443645Z",
     "shell.execute_reply.started": "2022-11-04T05:48:20.385560Z"
    },
    "tags": []
   },
   "outputs": [
    {
     "data": {
      "application/vnd.jupyter.widget-view+json": {
       "model_id": "2c1e8c5f70ce4b39bdedf437c5c1da4f",
       "version_major": 2,
       "version_minor": 0
      },
      "text/plain": [
       "VBox()"
      ]
     },
     "metadata": {},
     "output_type": "display_data"
    },
    {
     "data": {
      "application/vnd.jupyter.widget-view+json": {
       "model_id": "",
       "version_major": 2,
       "version_minor": 0
      },
      "text/plain": [
       "FloatProgress(value=0.0, bar_style='info', description='Progress:', layout=Layout(height='25px', width='50%'),…"
      ]
     },
     "metadata": {},
     "output_type": "display_data"
    }
   ],
   "source": [
    "\n",
    "def get_bookmark_value(v_bookmark_job_id):\n",
    "    \n",
    "    sql = \"select job_id,bookmark_col, bookmark_val from etlfw_rs.bookmark_table where job_id ='\" + v_bookmark_job_id + \"'\"\n",
    "    v_cluster_identifier = 'lakehouse-redshift-cluster'\n",
    "    v_secret_arn = 'arn:aws:secretsmanager:ap-southeast-1:130835040051:secret:prod/redshift-DqEEI9'\n",
    "    v_database_name = 'dev'\n",
    "    \n",
    "    rsd = boto3.client('redshift-data', region_name='ap-southeast-1')\n",
    "\n",
    "    resp = rsd.execute_statement(\n",
    "        Database=v_database_name,\n",
    "        ClusterIdentifier=v_cluster_identifier,\n",
    "        SecretArn=v_secret_arn,\n",
    "        Sql=sql\n",
    "    )\n",
    "    qid = resp[\"Id\"]\n",
    "    \n",
    "    while True:\n",
    "        desc = rsd.describe_statement(Id=qid)\n",
    "        if desc[\"Status\"] == \"FINISHED\":\n",
    "            break\n",
    "            print(desc[\"ResultRows\"])\n",
    "\n",
    "    if desc and desc[\"ResultRows\"]  > 0:\n",
    "        result = rsd.get_statement_result(Id=qid)\n",
    "    \n",
    "    return result[\"Records\"][0][2][\"stringValue\"]"
   ]
  },
  {
   "cell_type": "markdown",
   "id": "b58b6d72-cd38-4d33-af74-ac5690c51c8f",
   "metadata": {},
   "source": [
    "## Update bookmark value with new information"
   ]
  },
  {
   "cell_type": "code",
   "execution_count": 7,
   "id": "8bcfe4e9-3e47-4e96-82b6-84938149cc21",
   "metadata": {
    "execution": {
     "iopub.execute_input": "2022-11-04T05:48:20.445839Z",
     "iopub.status.busy": "2022-11-04T05:48:20.445554Z",
     "iopub.status.idle": "2022-11-04T05:48:20.514222Z",
     "shell.execute_reply": "2022-11-04T05:48:20.513532Z",
     "shell.execute_reply.started": "2022-11-04T05:48:20.445803Z"
    },
    "tags": []
   },
   "outputs": [
    {
     "data": {
      "application/vnd.jupyter.widget-view+json": {
       "model_id": "20faff50793542b6996d795b018d2383",
       "version_major": 2,
       "version_minor": 0
      },
      "text/plain": [
       "VBox()"
      ]
     },
     "metadata": {},
     "output_type": "display_data"
    },
    {
     "data": {
      "application/vnd.jupyter.widget-view+json": {
       "model_id": "",
       "version_major": 2,
       "version_minor": 0
      },
      "text/plain": [
       "FloatProgress(value=0.0, bar_style='info', description='Progress:', layout=Layout(height='25px', width='50%'),…"
      ]
     },
     "metadata": {},
     "output_type": "display_data"
    }
   ],
   "source": [
    "def update_bookmark_value(v_bookmark_job_id, v_new_bookmark_val):\n",
    "    \n",
    "    if v_new_bookmark_val:\n",
    "        sql = \"update etlfw_rs.bookmark_table set bookmark_val='\" + v_new_bookmark_val + \"' where job_id ='\" + v_bookmark_job_id + \"'\"\n",
    "        v_cluster_identifier = 'lakehouse-redshift-cluster'\n",
    "        v_secret_arn = 'arn:aws:secretsmanager:ap-southeast-1:130835040051:secret:prod/redshift-DqEEI9'\n",
    "        v_database_name = 'dev'\n",
    "\n",
    "        rsd = boto3.client('redshift-data', region_name='ap-southeast-1')\n",
    "\n",
    "        resp = rsd.execute_statement(\n",
    "            Database=v_database_name,\n",
    "            ClusterIdentifier=v_cluster_identifier,\n",
    "            SecretArn=v_secret_arn,\n",
    "            Sql=sql\n",
    "        )\n",
    "        qid = resp[\"Id\"]\n",
    "    "
   ]
  },
  {
   "cell_type": "markdown",
   "id": "3ba7e6a7-7c8a-4e63-93c3-755199b57ef8",
   "metadata": {},
   "source": [
    "### Get bookmark value from previous run"
   ]
  },
  {
   "cell_type": "code",
   "execution_count": 8,
   "id": "1a4e933b-3e6e-4949-995c-50256e6dc551",
   "metadata": {
    "execution": {
     "iopub.execute_input": "2022-11-04T05:48:20.515516Z",
     "iopub.status.busy": "2022-11-04T05:48:20.515286Z",
     "iopub.status.idle": "2022-11-04T05:48:21.804481Z",
     "shell.execute_reply": "2022-11-04T05:48:21.803677Z",
     "shell.execute_reply.started": "2022-11-04T05:48:20.515484Z"
    },
    "tags": []
   },
   "outputs": [
    {
     "data": {
      "application/vnd.jupyter.widget-view+json": {
       "model_id": "e038adbb9d1042bf93f460a89f0ead7c",
       "version_major": 2,
       "version_minor": 0
      },
      "text/plain": [
       "VBox()"
      ]
     },
     "metadata": {},
     "output_type": "display_data"
    },
    {
     "data": {
      "application/vnd.jupyter.widget-view+json": {
       "model_id": "",
       "version_major": 2,
       "version_minor": 0
      },
      "text/plain": [
       "FloatProgress(value=0.0, bar_style='info', description='Progress:', layout=Layout(height='25px', width='50%'),…"
      ]
     },
     "metadata": {},
     "output_type": "display_data"
    }
   ],
   "source": [
    "previous_bookmark_val = get_bookmark_value(\"ecommerce_customer_activity_ts\")"
   ]
  },
  {
   "cell_type": "markdown",
   "id": "a71bca96-5176-4e52-84f4-b7bc56656ebe",
   "metadata": {},
   "source": [
    "### Read from Postgres database with customized filtering"
   ]
  },
  {
   "cell_type": "code",
   "execution_count": 11,
   "id": "b8f53427-1316-4752-bc98-59d53ae06f7c",
   "metadata": {
    "execution": {
     "iopub.execute_input": "2022-11-04T05:49:16.847195Z",
     "iopub.status.busy": "2022-11-04T05:49:16.846825Z",
     "iopub.status.idle": "2022-11-04T05:49:17.109878Z",
     "shell.execute_reply": "2022-11-04T05:49:17.109106Z",
     "shell.execute_reply.started": "2022-11-04T05:49:16.847163Z"
    },
    "tags": []
   },
   "outputs": [
    {
     "data": {
      "application/vnd.jupyter.widget-view+json": {
       "model_id": "3b2a0ad24f8d416fb6fcb91ff40bf8a1",
       "version_major": 2,
       "version_minor": 0
      },
      "text/plain": [
       "VBox()"
      ]
     },
     "metadata": {},
     "output_type": "display_data"
    },
    {
     "data": {
      "application/vnd.jupyter.widget-view+json": {
       "model_id": "",
       "version_major": 2,
       "version_minor": 0
      },
      "text/plain": [
       "FloatProgress(value=0.0, bar_style='info', description='Progress:', layout=Layout(height='25px', width='50%'),…"
      ]
     },
     "metadata": {},
     "output_type": "display_data"
    },
    {
     "name": "stdout",
     "output_type": "stream",
     "text": [
      "select item_id,user_id,event_type,event_time at time zone 'Asia/Jakarta' as event_time,discount from ecommerce.customer_activity_ts where event_time>to_timestamp('2022-11-04 11:02:57.472228', 'YYYY-MM-DD HH24:MI:SS.US')"
     ]
    }
   ],
   "source": [
    "db_url = \"jdbc:postgresql://lakehouse-source-db.cluster-cxoaow30vcfp.ap-southeast-1.rds.amazonaws.com:5432/lakehouse_source_db\"\n",
    "db_query = \"select item_id,user_id,event_type,event_time,discount from ecommerce.customer_activity_ts where event_time>to_timestamp('\" + previous_bookmark_val +\"', 'YYYY-MM-DD HH24:MI:SS.US')\"\n",
    "\n",
    "\n",
    "jdbcDF = spark.read.format(\"jdbc\") \\\n",
    "    .option(\"driver\", \"org.postgresql.Driver\") \\\n",
    "    .option(\"url\", db_url) \\\n",
    "    .option(\"query\", db_query) \\\n",
    "    .option(\"user\", \"postgres\") \\\n",
    "    .option(\"password\", \"Password123\") \\\n",
    "    .option(\"fetchsize\", 10000) \\\n",
    "    .load()\n",
    "\n",
    "print(db_query)"
   ]
  },
  {
   "cell_type": "code",
   "execution_count": 12,
   "id": "6257e727-8ef1-4243-8896-56ab1560f104",
   "metadata": {
    "execution": {
     "iopub.execute_input": "2022-11-04T05:49:19.511356Z",
     "iopub.status.busy": "2022-11-04T05:49:19.511135Z",
     "iopub.status.idle": "2022-11-04T05:49:20.288349Z",
     "shell.execute_reply": "2022-11-04T05:49:20.287766Z",
     "shell.execute_reply.started": "2022-11-04T05:49:19.511333Z"
    },
    "tags": []
   },
   "outputs": [
    {
     "data": {
      "application/vnd.jupyter.widget-view+json": {
       "model_id": "b59a2bc0f23a40ac8e602174d5067ed7",
       "version_major": 2,
       "version_minor": 0
      },
      "text/plain": [
       "VBox()"
      ]
     },
     "metadata": {},
     "output_type": "display_data"
    },
    {
     "data": {
      "application/vnd.jupyter.widget-view+json": {
       "model_id": "",
       "version_major": 2,
       "version_minor": 0
      },
      "text/plain": [
       "FloatProgress(value=0.0, bar_style='info', description='Progress:', layout=Layout(height='25px', width='50%'),…"
      ]
     },
     "metadata": {},
     "output_type": "display_data"
    },
    {
     "name": "stdout",
     "output_type": "stream",
     "text": [
      "+-------+-------+----------+----------+--------+\n",
      "|item_id|user_id|event_type|event_time|discount|\n",
      "+-------+-------+----------+----------+--------+\n",
      "+-------+-------+----------+----------+--------+"
     ]
    }
   ],
   "source": [
    "jdbcDF.show(10)"
   ]
  },
  {
   "cell_type": "markdown",
   "id": "a655948a-2ef9-4581-af08-c5020289948d",
   "metadata": {},
   "source": [
    "### Transform using a UDF function to set as Uppercase"
   ]
  },
  {
   "cell_type": "code",
   "execution_count": null,
   "id": "78c758ed-f11d-4ad6-9f6e-db2fb49fdb55",
   "metadata": {
    "tags": []
   },
   "outputs": [],
   "source": [
    "outputDF = jdbcDF.withColumn('event_type',my_uppercase(col(\"event_type\")))\n",
    "outputDF.show(10)"
   ]
  },
  {
   "cell_type": "markdown",
   "id": "81251066-9a64-4c46-8242-69e28e99a918",
   "metadata": {},
   "source": [
    "### Use function to find max value in a dataframe"
   ]
  },
  {
   "cell_type": "code",
   "execution_count": null,
   "id": "1aed9ed8-8ad0-4c21-96a1-d95c9bddef15",
   "metadata": {
    "tags": []
   },
   "outputs": [],
   "source": [
    "new_bookmark_val = find_latest_event_time(outputDF,\"event_time\",spark)\n",
    "print(new_bookmark_val)"
   ]
  },
  {
   "cell_type": "markdown",
   "id": "2b701990-e9aa-4d62-89c7-a00f3374383b",
   "metadata": {},
   "source": [
    "## Save in Redshift\n",
    "\n",
    "https://docs.aws.amazon.com/emr/latest/ReleaseGuide/emr-spark-redshift.html"
   ]
  },
  {
   "cell_type": "code",
   "execution_count": null,
   "id": "597c9df8-8cc5-4eda-9625-f57e81735214",
   "metadata": {
    "tags": []
   },
   "outputs": [],
   "source": [
    "\n",
    "\n",
    "db_url = \"jdbc:redshift://lakehouse-redshift-cluster.c8opzqzu3aka.ap-southeast-1.redshift.amazonaws.com:5439/dev\"\n",
    "\n",
    "outputDF.write \\\n",
    "  .format(\"io.github.spark_redshift_community.spark.redshift\") \\\n",
    "  .mode(\"append\") \\\n",
    "  .option(\"url\", db_url) \\\n",
    "  .option(\"user\", \"rs_admin\") \\\n",
    "  .option(\"password\", \"Password123\") \\\n",
    "  .option(\"dbtable\", \"ecommerce.customer_activity_ts\") \\\n",
    "  .option(\"aws_iam_role\", \"arn:aws:iam::130835040051:role/LakeHouseRedshiftGlueAccessRole\") \\\n",
    "  .option(\"tempdir\", \"s3://aws-emr-resources-130835040051-ap-southeast-1/tempfolder/\") \\\n",
    "  .save()"
   ]
  },
  {
   "cell_type": "markdown",
   "id": "87e7f6ab-f103-426e-a039-a7b9843e2c6f",
   "metadata": {
    "execution": {
     "iopub.execute_input": "2022-11-03T16:22:49.175753Z",
     "iopub.status.busy": "2022-11-03T16:22:49.175566Z",
     "iopub.status.idle": "2022-11-03T16:22:49.229344Z",
     "shell.execute_reply": "2022-11-03T16:22:49.228792Z",
     "shell.execute_reply.started": "2022-11-03T16:22:49.175729Z"
    }
   },
   "source": [
    "### Update bookmark value with latest value"
   ]
  },
  {
   "cell_type": "code",
   "execution_count": null,
   "id": "fe0dd0f0-f5e8-41be-b7f9-86ca6cc74fbb",
   "metadata": {
    "tags": []
   },
   "outputs": [],
   "source": [
    "update_bookmark_value(\"ecommerce_customer_activity_ts\",str(new_bookmark_val))"
   ]
  }
 ],
 "metadata": {
  "kernelspec": {
   "display_name": "PySpark",
   "language": "python",
   "name": "pysparkkernel"
  },
  "language_info": {
   "codemirror_mode": {
    "name": "python",
    "version": 3
   },
   "file_extension": ".py",
   "mimetype": "text/x-python",
   "name": "pyspark",
   "pygments_lexer": "python3"
  }
 },
 "nbformat": 4,
 "nbformat_minor": 5
}
