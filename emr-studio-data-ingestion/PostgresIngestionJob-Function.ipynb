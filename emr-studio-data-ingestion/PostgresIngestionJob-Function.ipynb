{
 "cells": [
  {
   "cell_type": "markdown",
   "id": "138da90d-31a4-46f6-b85d-f7ccb5d2a436",
   "metadata": {},
   "source": [
    "# ETL Ingestion"
   ]
  },
  {
   "cell_type": "markdown",
   "id": "ac2f635e-a56c-4fc5-9fef-d835780c90a6",
   "metadata": {
    "tags": []
   },
   "source": [
    "## Setup environment and import libraries"
   ]
  },
  {
   "cell_type": "code",
   "execution_count": 1,
   "id": "dde42da7-c73d-4bc1-9a1b-d4e72e330000",
   "metadata": {
    "execution": {
     "iopub.execute_input": "2022-11-04T07:43:49.550265Z",
     "iopub.status.busy": "2022-11-04T07:43:49.549980Z",
     "iopub.status.idle": "2022-11-04T07:43:49.563946Z",
     "shell.execute_reply": "2022-11-04T07:43:49.563283Z",
     "shell.execute_reply.started": "2022-11-04T07:43:49.550237Z"
    },
    "tags": []
   },
   "outputs": [
    {
     "name": "stdout",
     "output_type": "stream",
     "text": [
      "The mount directory is already mounted. Skipping mounting.\n"
     ]
    }
   ],
   "source": [
    "%mount_workspace_dir . --params umask=222,allow_other\n",
    "import sys\n",
    "sys.path.insert(0,\"/home/emr-notebook/e-BZQPM2KW62NDCT2KPVNNE8UV6/\")"
   ]
  },
  {
   "cell_type": "markdown",
   "id": "4ba0ea2f-2dcd-40a6-8870-e027065d97a8",
   "metadata": {
    "tags": []
   },
   "source": [
    "### Upload the jdbc driver in S3 and declare the path"
   ]
  },
  {
   "cell_type": "code",
   "execution_count": 2,
   "id": "25092271-bd49-441b-85e9-b3e02f887327",
   "metadata": {
    "execution": {
     "iopub.execute_input": "2022-11-04T07:43:54.395736Z",
     "iopub.status.busy": "2022-11-04T07:43:54.395495Z",
     "iopub.status.idle": "2022-11-04T07:43:54.534395Z",
     "shell.execute_reply": "2022-11-04T07:43:54.533812Z",
     "shell.execute_reply.started": "2022-11-04T07:43:54.395709Z"
    },
    "tags": []
   },
   "outputs": [
    {
     "data": {
      "text/html": [
       "Current session configs: <tt>{'conf': {'spark.jars': 's3://aws-glue-assets-130835040051-ap-southeast-1/jars/postgresql-42.3.3.jar,s3://aws-glue-assets-130835040051-ap-southeast-1/jars/emr_redshift_spark/minimal-json.jar,s3://aws-glue-assets-130835040051-ap-southeast-1/jars/emr_redshift_spark/RedshiftJDBC.jar,s3://aws-glue-assets-130835040051-ap-southeast-1/jars/emr_redshift_spark/spark-avro.jar,s3://aws-glue-assets-130835040051-ap-southeast-1/jars/emr_redshift_spark/spark-redshift.jar'}, 'proxyUser': 'assumed-role_EMRDevExp-StudioUserRole_emr-engineer', 'kind': 'pyspark'}</tt><br>"
      ],
      "text/plain": [
       "<IPython.core.display.HTML object>"
      ]
     },
     "metadata": {},
     "output_type": "display_data"
    },
    {
     "data": {
      "text/html": [
       "No active sessions."
      ],
      "text/plain": [
       "<IPython.core.display.HTML object>"
      ]
     },
     "metadata": {},
     "output_type": "display_data"
    }
   ],
   "source": [
    "%%configure -f\n",
    "\n",
    "{\n",
    "    \"conf\": {\n",
    "        \"spark.jars\": \"s3://aws-glue-assets-999999999999-ap-southeast-1/jars/postgresql-42.3.3.jar,s3://aws-glue-assets-999999999999-ap-southeast-1/jars/emr_redshift_spark/minimal-json.jar,s3://aws-glue-assets-999999999999-ap-southeast-1/jars/emr_redshift_spark/RedshiftJDBC.jar,s3://aws-glue-assets-999999999999-ap-southeast-1/jars/emr_redshift_spark/spark-avro.jar,s3://aws-glue-assets-999999999999-ap-southeast-1/jars/emr_redshift_spark/spark-redshift.jar\"\n",
    "    }\n",
    "}\n",
    "\n"
   ]
  },
  {
   "cell_type": "code",
   "execution_count": 3,
   "id": "b34e832a-88f5-49cf-90aa-d20cc8a1b4db",
   "metadata": {
    "execution": {
     "iopub.execute_input": "2022-11-04T07:44:01.801248Z",
     "iopub.status.busy": "2022-11-04T07:44:01.801025Z",
     "iopub.status.idle": "2022-11-04T07:44:34.197972Z",
     "shell.execute_reply": "2022-11-04T07:44:34.197093Z",
     "shell.execute_reply.started": "2022-11-04T07:44:01.801224Z"
    },
    "tags": []
   },
   "outputs": [
    {
     "data": {
      "application/vnd.jupyter.widget-view+json": {
       "model_id": "75cb6c12ff464475abd26312cd483736",
       "version_major": 2,
       "version_minor": 0
      },
      "text/plain": [
       "VBox()"
      ]
     },
     "metadata": {},
     "output_type": "display_data"
    },
    {
     "name": "stdout",
     "output_type": "stream",
     "text": [
      "Starting Spark application\n"
     ]
    },
    {
     "data": {
      "text/html": [
       "<table>\n",
       "<tbody><tr><th>ID</th><th>YARN Application ID</th><th>Kind</th><th>State</th><th>Spark UI</th><th>Driver log</th><th>User</th><th>Current session?</th></tr><tr><td>95</td><td>application_1667433809375_0094</td><td>pyspark</td><td>idle</td><td><a target=\"_blank\" href=\"http://ip-10-0-10-77.ap-southeast-1.compute.internal:20888/proxy/application_1667433809375_0094/\" class=\"emr-proxy-link j-K408OJH25N2L application_1667433809375_0094\" emr-resource=\"j-K408OJH25N2L\n",
       "\" application-id=\"application_1667433809375_0094\">Link</a></td><td><a target=\"_blank\" href=\"http://ip-10-0-10-77.ap-southeast-1.compute.internal:8042/node/containerlogs/container_1667433809375_0094_01_000001/livy\">Link</a></td><td>None</td><td>✔</td></tr></tbody></table>"
      ],
      "text/plain": [
       "<IPython.core.display.HTML object>"
      ]
     },
     "metadata": {},
     "output_type": "display_data"
    },
    {
     "data": {
      "application/vnd.jupyter.widget-view+json": {
       "model_id": "",
       "version_major": 2,
       "version_minor": 0
      },
      "text/plain": [
       "FloatProgress(value=0.0, bar_style='info', description='Progress:', layout=Layout(height='25px', width='50%'),…"
      ]
     },
     "metadata": {},
     "output_type": "display_data"
    },
    {
     "name": "stdout",
     "output_type": "stream",
     "text": [
      "SparkSession available as 'spark'.\n"
     ]
    },
    {
     "data": {
      "application/vnd.jupyter.widget-view+json": {
       "model_id": "",
       "version_major": 2,
       "version_minor": 0
      },
      "text/plain": [
       "FloatProgress(value=0.0, bar_style='info', description='Progress:', layout=Layout(height='25px', width='50%'),…"
      ]
     },
     "metadata": {},
     "output_type": "display_data"
    }
   ],
   "source": [
    "\n",
    "import os\n",
    "import sys\n",
    "from datetime import datetime\n",
    "from pyspark.sql import SparkSession\n",
    "from pyspark.sql.functions import *\n",
    "from pyspark.sql.functions import to_date, col, udf\n",
    "\n",
    "os.environ['PYSPARK_SUBMIT_ARGS'] = '--packages org.apache.spark:spark-avro_2.11:2.4.2,io.github.spark-redshift-community:spark-redshift_2.11:4.0.1 pyspark-shell'\n"
   ]
  },
  {
   "cell_type": "markdown",
   "id": "466363ba-b770-4c3d-ade0-6070929c3255",
   "metadata": {},
   "source": [
    "Install boto3 in cluster first\n",
    "`sudo pip3 install -U boto3`"
   ]
  },
  {
   "cell_type": "code",
   "execution_count": 4,
   "id": "d03816a2-4e46-4689-8e90-042f9f992638",
   "metadata": {
    "execution": {
     "iopub.execute_input": "2022-11-04T07:44:34.199199Z",
     "iopub.status.busy": "2022-11-04T07:44:34.199028Z",
     "iopub.status.idle": "2022-11-04T07:44:34.491221Z",
     "shell.execute_reply": "2022-11-04T07:44:34.490497Z",
     "shell.execute_reply.started": "2022-11-04T07:44:34.199178Z"
    },
    "tags": []
   },
   "outputs": [
    {
     "data": {
      "application/vnd.jupyter.widget-view+json": {
       "model_id": "6b1169548af04cd3973546d4f7df7a7e",
       "version_major": 2,
       "version_minor": 0
      },
      "text/plain": [
       "VBox()"
      ]
     },
     "metadata": {},
     "output_type": "display_data"
    },
    {
     "data": {
      "application/vnd.jupyter.widget-view+json": {
       "model_id": "",
       "version_major": 2,
       "version_minor": 0
      },
      "text/plain": [
       "FloatProgress(value=0.0, bar_style='info', description='Progress:', layout=Layout(height='25px', width='50%'),…"
      ]
     },
     "metadata": {},
     "output_type": "display_data"
    }
   ],
   "source": [
    "\n",
    "#sc.install_pypi_package(\"boto3\")\n",
    "import boto3\n",
    "import botocore"
   ]
  },
  {
   "cell_type": "code",
   "execution_count": 5,
   "id": "f16b20f5-7fdc-42b2-8db9-d756687b1345",
   "metadata": {
    "execution": {
     "iopub.execute_input": "2022-11-04T07:45:46.699475Z",
     "iopub.status.busy": "2022-11-04T07:45:46.699247Z",
     "iopub.status.idle": "2022-11-04T07:45:47.461223Z",
     "shell.execute_reply": "2022-11-04T07:45:47.460638Z",
     "shell.execute_reply.started": "2022-11-04T07:45:46.699452Z"
    },
    "tags": []
   },
   "outputs": [
    {
     "data": {
      "application/vnd.jupyter.widget-view+json": {
       "model_id": "4298cde8823943d19f7fe8c5bca0f720",
       "version_major": 2,
       "version_minor": 0
      },
      "text/plain": [
       "VBox()"
      ]
     },
     "metadata": {},
     "output_type": "display_data"
    },
    {
     "data": {
      "application/vnd.jupyter.widget-view+json": {
       "model_id": "",
       "version_major": 2,
       "version_minor": 0
      },
      "text/plain": [
       "FloatProgress(value=0.0, bar_style='info', description='Progress:', layout=Layout(height='25px', width='50%'),…"
      ]
     },
     "metadata": {},
     "output_type": "display_data"
    }
   ],
   "source": [
    "import sys\n",
    "sys.path.append(\"/home/emr-notebook/e-BZQPM2KW62NDCT2KPVNNE8UFF\")\n",
    "import ETLUtility\n",
    "from ETLUtility import get_bookmark_value\n",
    "from ETLUtility import my_uppercase\n",
    "from ETLUtility import find_latest_event_time\n",
    "from ETLUtility import update_bookmark_value\n"
   ]
  },
  {
   "cell_type": "markdown",
   "id": "3ba7e6a7-7c8a-4e63-93c3-755199b57ef8",
   "metadata": {},
   "source": [
    "### Get bookmark value from previous run"
   ]
  },
  {
   "cell_type": "code",
   "execution_count": 6,
   "id": "1a4e933b-3e6e-4949-995c-50256e6dc551",
   "metadata": {
    "execution": {
     "iopub.execute_input": "2022-11-04T07:45:52.497365Z",
     "iopub.status.busy": "2022-11-04T07:45:52.497121Z",
     "iopub.status.idle": "2022-11-04T07:45:53.772462Z",
     "shell.execute_reply": "2022-11-04T07:45:53.771750Z",
     "shell.execute_reply.started": "2022-11-04T07:45:52.497339Z"
    },
    "tags": []
   },
   "outputs": [
    {
     "data": {
      "application/vnd.jupyter.widget-view+json": {
       "model_id": "c103ae5055f1449ea7cfe193f312e32d",
       "version_major": 2,
       "version_minor": 0
      },
      "text/plain": [
       "VBox()"
      ]
     },
     "metadata": {},
     "output_type": "display_data"
    },
    {
     "data": {
      "application/vnd.jupyter.widget-view+json": {
       "model_id": "",
       "version_major": 2,
       "version_minor": 0
      },
      "text/plain": [
       "FloatProgress(value=0.0, bar_style='info', description='Progress:', layout=Layout(height='25px', width='50%'),…"
      ]
     },
     "metadata": {},
     "output_type": "display_data"
    },
    {
     "name": "stdout",
     "output_type": "stream",
     "text": [
      "2022-11-04 06:20:23.441813"
     ]
    }
   ],
   "source": [
    "previous_bookmark_val = get_bookmark_value(\"ecommerce_customer_activity_ts\")\n",
    "print(previous_bookmark_val)"
   ]
  },
  {
   "cell_type": "markdown",
   "id": "a71bca96-5176-4e52-84f4-b7bc56656ebe",
   "metadata": {},
   "source": [
    "### Read from Postgres database with customized filtering"
   ]
  },
  {
   "cell_type": "code",
   "execution_count": 7,
   "id": "b8f53427-1316-4752-bc98-59d53ae06f7c",
   "metadata": {
    "execution": {
     "iopub.execute_input": "2022-11-04T07:46:06.180479Z",
     "iopub.status.busy": "2022-11-04T07:46:06.180194Z",
     "iopub.status.idle": "2022-11-04T07:46:08.478256Z",
     "shell.execute_reply": "2022-11-04T07:46:08.477380Z",
     "shell.execute_reply.started": "2022-11-04T07:46:06.180441Z"
    },
    "tags": []
   },
   "outputs": [
    {
     "data": {
      "application/vnd.jupyter.widget-view+json": {
       "model_id": "dea29be9521e4cc8a1994266d11e7f28",
       "version_major": 2,
       "version_minor": 0
      },
      "text/plain": [
       "VBox()"
      ]
     },
     "metadata": {},
     "output_type": "display_data"
    },
    {
     "data": {
      "application/vnd.jupyter.widget-view+json": {
       "model_id": "",
       "version_major": 2,
       "version_minor": 0
      },
      "text/plain": [
       "FloatProgress(value=0.0, bar_style='info', description='Progress:', layout=Layout(height='25px', width='50%'),…"
      ]
     },
     "metadata": {},
     "output_type": "display_data"
    },
    {
     "name": "stdout",
     "output_type": "stream",
     "text": [
      "select item_id,user_id,event_type,event_time,discount from ecommerce.customer_activity_ts where event_time>to_timestamp('2022-11-04 06:20:23.441813', 'YYYY-MM-DD HH24:MI:SS.US')"
     ]
    }
   ],
   "source": [
    "\n",
    "db_url = \"jdbc:postgresql://lakehouse-source-db.cluster-aaaaaaaaaa.ap-southeast-1.rds.amazonaws.com:5432/lakehouse_source_db\"\n",
    "db_query = \"select item_id,user_id,event_type,event_time,discount from ecommerce.customer_activity_ts where event_time>to_timestamp('\" + previous_bookmark_val +\"', 'YYYY-MM-DD HH24:MI:SS.US')\"\n",
    "\n",
    "jdbcDF = spark.read.format(\"jdbc\") \\\n",
    "    .option(\"driver\", \"org.postgresql.Driver\") \\\n",
    "    .option(\"url\", db_url) \\\n",
    "    .option(\"query\", db_query) \\\n",
    "    .option(\"user\", \"awsuser\") \\\n",
    "    .option(\"password\", \"password\") \\\n",
    "    .option(\"fetchsize\", 10000) \\\n",
    "    .load()\n",
    "\n",
    "print(db_query)"
   ]
  },
  {
   "cell_type": "code",
   "execution_count": 8,
   "id": "6257e727-8ef1-4243-8896-56ab1560f104",
   "metadata": {
    "execution": {
     "iopub.execute_input": "2022-11-04T07:46:48.521273Z",
     "iopub.status.busy": "2022-11-04T07:46:48.521047Z",
     "iopub.status.idle": "2022-11-04T07:46:57.848521Z",
     "shell.execute_reply": "2022-11-04T07:46:57.847718Z",
     "shell.execute_reply.started": "2022-11-04T07:46:48.521249Z"
    },
    "tags": []
   },
   "outputs": [
    {
     "data": {
      "application/vnd.jupyter.widget-view+json": {
       "model_id": "3f9d3074ddb44da49dc003e82f6207a8",
       "version_major": 2,
       "version_minor": 0
      },
      "text/plain": [
       "VBox()"
      ]
     },
     "metadata": {},
     "output_type": "display_data"
    },
    {
     "data": {
      "application/vnd.jupyter.widget-view+json": {
       "model_id": "",
       "version_major": 2,
       "version_minor": 0
      },
      "text/plain": [
       "FloatProgress(value=0.0, bar_style='info', description='Progress:', layout=Layout(height='25px', width='50%'),…"
      ]
     },
     "metadata": {},
     "output_type": "display_data"
    },
    {
     "name": "stdout",
     "output_type": "stream",
     "text": [
      "+--------------------+-------+-------------+--------------------+--------+\n",
      "|             item_id|user_id|   event_type|          event_time|discount|\n",
      "+--------------------+-------+-------------+--------------------+--------+\n",
      "|1def0093-96b2-4cc...|   3156|ProductViewed|2022-11-04 07:46:...|      No|\n",
      "|1def0093-96b2-4cc...|   3156|ProductViewed|2022-11-04 07:46:...|      No|\n",
      "|4df77d59-732e-419...|    332|ProductViewed|2022-11-04 07:46:...|     Yes|\n",
      "|4df77d59-732e-419...|    332|ProductViewed|2022-11-04 07:46:...|     Yes|\n",
      "|31b83eb4-bd8a-4b5...|   3981|ProductViewed|2022-11-04 07:46:...|     Yes|\n",
      "|31b83eb4-bd8a-4b5...|   3981|ProductViewed|2022-11-04 07:46:...|     Yes|\n",
      "|89fbf7f1-0656-44e...|   3905|ProductViewed|2022-11-04 07:46:...|      No|\n",
      "|89fbf7f1-0656-44e...|   3905|ProductViewed|2022-11-04 07:46:...|      No|\n",
      "|f9c470b0-152b-477...|   4135|ProductViewed|2022-11-04 07:46:...|     Yes|\n",
      "|f9c470b0-152b-477...|   4135|ProductViewed|2022-11-04 07:46:...|     Yes|\n",
      "+--------------------+-------+-------------+--------------------+--------+\n",
      "only showing top 10 rows"
     ]
    }
   ],
   "source": [
    "jdbcDF.show(10)"
   ]
  },
  {
   "cell_type": "markdown",
   "id": "a655948a-2ef9-4581-af08-c5020289948d",
   "metadata": {},
   "source": [
    "### Transform using a UDF function to set as Uppercase"
   ]
  },
  {
   "cell_type": "code",
   "execution_count": 9,
   "id": "78c758ed-f11d-4ad6-9f6e-db2fb49fdb55",
   "metadata": {
    "execution": {
     "iopub.execute_input": "2022-11-04T07:47:02.820914Z",
     "iopub.status.busy": "2022-11-04T07:47:02.820681Z",
     "iopub.status.idle": "2022-11-04T07:47:05.096401Z",
     "shell.execute_reply": "2022-11-04T07:47:05.095681Z",
     "shell.execute_reply.started": "2022-11-04T07:47:02.820889Z"
    },
    "tags": []
   },
   "outputs": [
    {
     "data": {
      "application/vnd.jupyter.widget-view+json": {
       "model_id": "68418a7e25634159ac6d69d48c4039a9",
       "version_major": 2,
       "version_minor": 0
      },
      "text/plain": [
       "VBox()"
      ]
     },
     "metadata": {},
     "output_type": "display_data"
    },
    {
     "data": {
      "application/vnd.jupyter.widget-view+json": {
       "model_id": "",
       "version_major": 2,
       "version_minor": 0
      },
      "text/plain": [
       "FloatProgress(value=0.0, bar_style='info', description='Progress:', layout=Layout(height='25px', width='50%'),…"
      ]
     },
     "metadata": {},
     "output_type": "display_data"
    },
    {
     "name": "stdout",
     "output_type": "stream",
     "text": [
      "+--------------------+-------+-------------+--------------------+--------+\n",
      "|             item_id|user_id|   event_type|          event_time|discount|\n",
      "+--------------------+-------+-------------+--------------------+--------+\n",
      "|1def0093-96b2-4cc...|   3156|PRODUCTVIEWED|2022-11-04 07:46:...|      No|\n",
      "|1def0093-96b2-4cc...|   3156|PRODUCTVIEWED|2022-11-04 07:46:...|      No|\n",
      "|4df77d59-732e-419...|    332|PRODUCTVIEWED|2022-11-04 07:46:...|     Yes|\n",
      "|4df77d59-732e-419...|    332|PRODUCTVIEWED|2022-11-04 07:46:...|     Yes|\n",
      "|31b83eb4-bd8a-4b5...|   3981|PRODUCTVIEWED|2022-11-04 07:46:...|     Yes|\n",
      "|31b83eb4-bd8a-4b5...|   3981|PRODUCTVIEWED|2022-11-04 07:46:...|     Yes|\n",
      "|89fbf7f1-0656-44e...|   3905|PRODUCTVIEWED|2022-11-04 07:46:...|      No|\n",
      "|89fbf7f1-0656-44e...|   3905|PRODUCTVIEWED|2022-11-04 07:46:...|      No|\n",
      "|f9c470b0-152b-477...|   4135|PRODUCTVIEWED|2022-11-04 07:46:...|     Yes|\n",
      "|f9c470b0-152b-477...|   4135|PRODUCTVIEWED|2022-11-04 07:46:...|     Yes|\n",
      "+--------------------+-------+-------------+--------------------+--------+\n",
      "only showing top 10 rows"
     ]
    }
   ],
   "source": [
    "outputDF = jdbcDF.withColumn('event_type',my_uppercase(col(\"event_type\")))\n",
    "outputDF.show(10)"
   ]
  },
  {
   "cell_type": "markdown",
   "id": "81251066-9a64-4c46-8242-69e28e99a918",
   "metadata": {},
   "source": [
    "### Use function to find max value in a dataframe"
   ]
  },
  {
   "cell_type": "code",
   "execution_count": 10,
   "id": "1aed9ed8-8ad0-4c21-96a1-d95c9bddef15",
   "metadata": {
    "execution": {
     "iopub.execute_input": "2022-11-04T07:47:14.598925Z",
     "iopub.status.busy": "2022-11-04T07:47:14.598685Z",
     "iopub.status.idle": "2022-11-04T07:47:16.883702Z",
     "shell.execute_reply": "2022-11-04T07:47:16.883119Z",
     "shell.execute_reply.started": "2022-11-04T07:47:14.598901Z"
    },
    "tags": []
   },
   "outputs": [
    {
     "data": {
      "application/vnd.jupyter.widget-view+json": {
       "model_id": "b7c2c3d1a31243e098def2494c7a2a6d",
       "version_major": 2,
       "version_minor": 0
      },
      "text/plain": [
       "VBox()"
      ]
     },
     "metadata": {},
     "output_type": "display_data"
    },
    {
     "data": {
      "application/vnd.jupyter.widget-view+json": {
       "model_id": "",
       "version_major": 2,
       "version_minor": 0
      },
      "text/plain": [
       "FloatProgress(value=0.0, bar_style='info', description='Progress:', layout=Layout(height='25px', width='50%'),…"
      ]
     },
     "metadata": {},
     "output_type": "display_data"
    },
    {
     "name": "stdout",
     "output_type": "stream",
     "text": [
      "2022-11-04 07:46:38.937047"
     ]
    }
   ],
   "source": [
    "new_bookmark_val = find_latest_event_time(outputDF,\"event_time\",spark)\n",
    "print(new_bookmark_val)"
   ]
  },
  {
   "cell_type": "markdown",
   "id": "2b701990-e9aa-4d62-89c7-a00f3374383b",
   "metadata": {},
   "source": [
    "## Save in Redshift\n",
    "\n",
    "https://docs.aws.amazon.com/emr/latest/ReleaseGuide/emr-spark-redshift.html"
   ]
  },
  {
   "cell_type": "code",
   "execution_count": 11,
   "id": "597c9df8-8cc5-4eda-9625-f57e81735214",
   "metadata": {
    "execution": {
     "iopub.execute_input": "2022-11-04T07:47:30.678362Z",
     "iopub.status.busy": "2022-11-04T07:47:30.678064Z",
     "iopub.status.idle": "2022-11-04T07:47:39.989659Z",
     "shell.execute_reply": "2022-11-04T07:47:39.988959Z",
     "shell.execute_reply.started": "2022-11-04T07:47:30.678334Z"
    },
    "tags": []
   },
   "outputs": [
    {
     "data": {
      "application/vnd.jupyter.widget-view+json": {
       "model_id": "d2933615fa7f40f4ae82b50cb4cec0b6",
       "version_major": 2,
       "version_minor": 0
      },
      "text/plain": [
       "VBox()"
      ]
     },
     "metadata": {},
     "output_type": "display_data"
    },
    {
     "data": {
      "application/vnd.jupyter.widget-view+json": {
       "model_id": "",
       "version_major": 2,
       "version_minor": 0
      },
      "text/plain": [
       "FloatProgress(value=0.0, bar_style='info', description='Progress:', layout=Layout(height='25px', width='50%'),…"
      ]
     },
     "metadata": {},
     "output_type": "display_data"
    }
   ],
   "source": [
    "\n",
    "\n",
    "db_url = \"jdbc:redshift://lakehouse-redshift-cluster.aaaaaaaaaaa.ap-southeast-1.redshift.amazonaws.com:5439/dev\"\n",
    "\n",
    "outputDF.write \\\n",
    "  .format(\"io.github.spark_redshift_community.spark.redshift\") \\\n",
    "  .mode(\"append\") \\\n",
    "  .option(\"url\", db_url) \\\n",
    "  .option(\"user\", \"awsuser\") \\\n",
    "  .option(\"password\", \"password\") \\\n",
    "  .option(\"dbtable\", \"ecommerce.customer_activity_ts\") \\\n",
    "  .option(\"aws_iam_role\", \"arn:aws:iam::999999999999:role/LakeHouseRedshiftGlueAccessRole\") \\\n",
    "  .option(\"tempdir\", \"s3://aws-emr-resources-999999999999-ap-southeast-1/tempfolder/\") \\\n",
    "  .save()"
   ]
  },
  {
   "cell_type": "markdown",
   "id": "87e7f6ab-f103-426e-a039-a7b9843e2c6f",
   "metadata": {
    "execution": {
     "iopub.execute_input": "2022-11-03T16:22:49.175753Z",
     "iopub.status.busy": "2022-11-03T16:22:49.175566Z",
     "iopub.status.idle": "2022-11-03T16:22:49.229344Z",
     "shell.execute_reply": "2022-11-03T16:22:49.228792Z",
     "shell.execute_reply.started": "2022-11-03T16:22:49.175729Z"
    }
   },
   "source": [
    "### Update bookmark value with latest value"
   ]
  },
  {
   "cell_type": "code",
   "execution_count": 12,
   "id": "fe0dd0f0-f5e8-41be-b7f9-86ca6cc74fbb",
   "metadata": {
    "execution": {
     "iopub.execute_input": "2022-11-04T07:47:39.990898Z",
     "iopub.status.busy": "2022-11-04T07:47:39.990717Z",
     "iopub.status.idle": "2022-11-04T07:47:40.750630Z",
     "shell.execute_reply": "2022-11-04T07:47:40.750003Z",
     "shell.execute_reply.started": "2022-11-04T07:47:39.990876Z"
    },
    "tags": []
   },
   "outputs": [
    {
     "data": {
      "application/vnd.jupyter.widget-view+json": {
       "model_id": "437c18ffa6bc4895970384fec5f24db5",
       "version_major": 2,
       "version_minor": 0
      },
      "text/plain": [
       "VBox()"
      ]
     },
     "metadata": {},
     "output_type": "display_data"
    },
    {
     "data": {
      "application/vnd.jupyter.widget-view+json": {
       "model_id": "",
       "version_major": 2,
       "version_minor": 0
      },
      "text/plain": [
       "FloatProgress(value=0.0, bar_style='info', description='Progress:', layout=Layout(height='25px', width='50%'),…"
      ]
     },
     "metadata": {},
     "output_type": "display_data"
    }
   ],
   "source": [
    "update_bookmark_value(\"ecommerce_customer_activity_ts\",str(new_bookmark_val))"
   ]
  },
  {
   "cell_type": "code",
   "execution_count": null,
   "id": "02e771d4-5ba7-4c4f-9299-0e487ef584a3",
   "metadata": {},
   "outputs": [],
   "source": []
  }
 ],
 "metadata": {
  "kernelspec": {
   "display_name": "PySpark",
   "language": "python",
   "name": "pysparkkernel"
  },
  "language_info": {
   "codemirror_mode": {
    "name": "python",
    "version": 3
   },
   "file_extension": ".py",
   "mimetype": "text/x-python",
   "name": "pyspark",
   "pygments_lexer": "python3"
  }
 },
 "nbformat": 4,
 "nbformat_minor": 5
}
